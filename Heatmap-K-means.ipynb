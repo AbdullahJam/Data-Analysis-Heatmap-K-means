{
  "cells": [
    {
      "cell_type": "markdown",
      "metadata": {
        "id": "pgN80suHx6CW"
      },
      "source": [
        "> Öğrenci adı    : Abdullah JAMOUS\n",
        "------\n",
        "> Öğrenci Numara : 225B5001\n",
        "------\n",
        "> Ders adı       : Makine Öğrenmesi\n",
        "------\n",
        "> Ders Öğretmeni : Prof.Dr. Mine Elif KARSLIGİL YAVUZ\n",
        "---\n",
        "> Proje Konusu   : Alışveriş müşteri veri analizi"
      ]
    },
    {
      "cell_type": "markdown",
      "metadata": {
        "id": "rn1TbNWJ0PRw"
      },
      "source": [
        "# **Veri Analizi**\n"
      ]
    },
    {
      "cell_type": "markdown",
      "metadata": {
        "id": "R_PEuXWStmbb"
      },
      "source": [
        "## *Veri Setinin Tanımı:*\n",
        "\n",
        "---\n",
        "\n"
      ]
    },
    {
      "cell_type": "markdown",
      "metadata": {
        "id": "EvgCqmcd0zwJ"
      },
      "source": [
        "Bu veri seti, 4'ü doğrusal değerli ve biri kategorik olan 5 öznitelik içerir.\n",
        "\n",
        "Bu veri seti, yalnızca pazar sepeti analizi olarak da bilinen müşteri segmentasyonu kavramlarını öğrenmek amacıyla oluşturulmuştur. Bunu en basit haliyle denetimsiz ML tekniğini (KMeans Clustering Algorithm) kullanarak göstereceğim.\n"
      ]
    },
    {
      "cell_type": "markdown",
      "metadata": {
        "id": "QzqeTltDuaur"
      },
      "source": [
        "## *Veri Setinin İçeriği*\n",
        "\n",
        "---\n",
        "\n"
      ]
    },
    {
      "cell_type": "markdown",
      "metadata": {
        "id": "oEDXsKlOufpj"
      },
      "source": [
        "Veri örnek sayısı: 200 \n",
        "Öznitelik sayısı: 5\n",
        "\n",
        "Bir süpermarket alışveriş merkezine borcunuz var ve üyelik kartlarınız aracılığıyla Müşteri Kimliği, yaş, cinsiyet, yıllık gelir ve harcama puanı gibi müşterilerinize ilişkin bazı temel bilgilere sahipsiniz.\n",
        "Harcama Puanı, müşteri davranışı ve satın alma verileri gibi tanımladığınız parametrelere göre müşteriye atadığınız bir şeydir."
      ]
    },
    {
      "cell_type": "markdown",
      "metadata": {
        "id": "7AU42TlDvktM"
      },
      "source": [
        "### Öznitelik Bilgileri:\n",
        "\n",
        "---\n",
        "\n"
      ]
    },
    {
      "cell_type": "markdown",
      "metadata": {
        "id": "jrW05XV1vtdr"
      },
      "source": [
        "**Klinik Öznitelikler: (0, 1, 2, 3) değerlerini alır**\n",
        "\n",
        "*   1: erythema\n",
        "*   2: scaling\n",
        "*   3: definite borders\n",
        "*   4: itching\n",
        "*   5: koebner phenomenon\n",
        "*   6: polygonal papules\n",
        "*   7: follicular papules\n",
        "*   8: oral mucosal involvement\n",
        "*   9: knee and elbow involvement\n",
        "*   10: scalp involvement\n",
        "*   11: family history, (0 veya 1)\n",
        "*   34: Age (linear)"
      ]
    },
    {
      "cell_type": "markdown",
      "metadata": {
        "id": "kOSbFOloxO8B"
      },
      "source": [
        "**Histopatolojik Öznitelikler: (0, 1, 2, 3) değerlerini alır**\n",
        "*   12: melanin incontinence\n",
        "*   13: eosinophils in the infiltrate\n",
        "*   14: PNL infiltrate\n",
        "*   15: fibrosis of the papillary dermis\n",
        "*   16: exocytosis\n",
        "*   17: acanthosis\n",
        "*   18: hyperkeratosis\n",
        "*   19: parakeratosis\n",
        "*   20: clubbing of the rete ridges\n",
        "*   21: elongation of the rete ridges\n",
        "*   22: thinning of the suprapapillary epidermis\n",
        "*   23: spongiform pustule\n",
        "*   24: munro microabcess\n",
        "*   25: focal hypergranulosis\n",
        "*   26: disappearance of the granular layer\n",
        "*   27: vacuolisation and damage of basal layer\n",
        "*   28: spongiosis\n",
        "*   29: saw-tooth appearance of retes\n",
        "*   30: follicular horn plug\n",
        "*   31: perifollicular parakeratosis\n",
        "*   32: inflammatory monoluclear inflitrate\n",
        "*   33: band-like infiltrate\n"
      ]
    },
    {
      "cell_type": "markdown",
      "metadata": {
        "id": "XMsjxJQIxoPt"
      },
      "source": [
        "**Sınıf Bilgisi: (1,2,3,4,5,6) değerlerini alır**\n",
        "*   35 : class code"
      ]
    },
    {
      "cell_type": "markdown",
      "metadata": {
        "id": "C0K8iUVshM5X"
      },
      "source": [
        "## *Data üzerinde işlem yapması*\n",
        "\n",
        "---\n",
        "\n"
      ]
    },
    {
      "cell_type": "markdown",
      "metadata": {
        "id": "fZReg7nvhbjy"
      },
      "source": [
        "### Dataseti çağırmak\n",
        "\n",
        "---\n",
        "\n"
      ]
    },
    {
      "cell_type": "code",
      "execution_count": 2,
      "metadata": {
        "colab": {
          "base_uri": "https://localhost:8080/",
          "height": 442
        },
        "id": "t9y_7Tcqx38D",
        "outputId": "99372ada-b3b1-4e4a-d24f-0fb561e4c7c3"
      },
      "outputs": [
        {
          "name": "stdout",
          "output_type": "stream",
          "text": [
            "Veri seti örneği:\n"
          ]
        },
        {
          "data": {
            "text/html": [
              "\n",
              "  <div id=\"df-9004be40-7d4e-4d12-9ad9-9d13e4d0cf45\">\n",
              "    <div class=\"colab-df-container\">\n",
              "      <div>\n",
              "<style scoped>\n",
              "    .dataframe tbody tr th:only-of-type {\n",
              "        vertical-align: middle;\n",
              "    }\n",
              "\n",
              "    .dataframe tbody tr th {\n",
              "        vertical-align: top;\n",
              "    }\n",
              "\n",
              "    .dataframe thead th {\n",
              "        text-align: right;\n",
              "    }\n",
              "</style>\n",
              "<table border=\"1\" class=\"dataframe\">\n",
              "  <thead>\n",
              "    <tr style=\"text-align: right;\">\n",
              "      <th></th>\n",
              "      <th>CustomerID</th>\n",
              "      <th>Gender</th>\n",
              "      <th>Age</th>\n",
              "      <th>Annual Income (k$)</th>\n",
              "      <th>Spending Score (1-100)</th>\n",
              "    </tr>\n",
              "  </thead>\n",
              "  <tbody>\n",
              "    <tr>\n",
              "      <th>0</th>\n",
              "      <td>1</td>\n",
              "      <td>Male</td>\n",
              "      <td>19</td>\n",
              "      <td>15</td>\n",
              "      <td>39</td>\n",
              "    </tr>\n",
              "    <tr>\n",
              "      <th>1</th>\n",
              "      <td>2</td>\n",
              "      <td>Male</td>\n",
              "      <td>21</td>\n",
              "      <td>15</td>\n",
              "      <td>81</td>\n",
              "    </tr>\n",
              "    <tr>\n",
              "      <th>2</th>\n",
              "      <td>3</td>\n",
              "      <td>Female</td>\n",
              "      <td>20</td>\n",
              "      <td>16</td>\n",
              "      <td>6</td>\n",
              "    </tr>\n",
              "    <tr>\n",
              "      <th>3</th>\n",
              "      <td>4</td>\n",
              "      <td>Female</td>\n",
              "      <td>23</td>\n",
              "      <td>16</td>\n",
              "      <td>77</td>\n",
              "    </tr>\n",
              "    <tr>\n",
              "      <th>4</th>\n",
              "      <td>5</td>\n",
              "      <td>Female</td>\n",
              "      <td>31</td>\n",
              "      <td>17</td>\n",
              "      <td>40</td>\n",
              "    </tr>\n",
              "    <tr>\n",
              "      <th>...</th>\n",
              "      <td>...</td>\n",
              "      <td>...</td>\n",
              "      <td>...</td>\n",
              "      <td>...</td>\n",
              "      <td>...</td>\n",
              "    </tr>\n",
              "    <tr>\n",
              "      <th>195</th>\n",
              "      <td>196</td>\n",
              "      <td>Female</td>\n",
              "      <td>35</td>\n",
              "      <td>120</td>\n",
              "      <td>79</td>\n",
              "    </tr>\n",
              "    <tr>\n",
              "      <th>196</th>\n",
              "      <td>197</td>\n",
              "      <td>Female</td>\n",
              "      <td>45</td>\n",
              "      <td>126</td>\n",
              "      <td>28</td>\n",
              "    </tr>\n",
              "    <tr>\n",
              "      <th>197</th>\n",
              "      <td>198</td>\n",
              "      <td>Male</td>\n",
              "      <td>32</td>\n",
              "      <td>126</td>\n",
              "      <td>74</td>\n",
              "    </tr>\n",
              "    <tr>\n",
              "      <th>198</th>\n",
              "      <td>199</td>\n",
              "      <td>Male</td>\n",
              "      <td>32</td>\n",
              "      <td>137</td>\n",
              "      <td>18</td>\n",
              "    </tr>\n",
              "    <tr>\n",
              "      <th>199</th>\n",
              "      <td>200</td>\n",
              "      <td>Male</td>\n",
              "      <td>30</td>\n",
              "      <td>137</td>\n",
              "      <td>83</td>\n",
              "    </tr>\n",
              "  </tbody>\n",
              "</table>\n",
              "<p>200 rows × 5 columns</p>\n",
              "</div>\n",
              "      <button class=\"colab-df-convert\" onclick=\"convertToInteractive('df-9004be40-7d4e-4d12-9ad9-9d13e4d0cf45')\"\n",
              "              title=\"Convert this dataframe to an interactive table.\"\n",
              "              style=\"display:none;\">\n",
              "        \n",
              "  <svg xmlns=\"http://www.w3.org/2000/svg\" height=\"24px\"viewBox=\"0 0 24 24\"\n",
              "       width=\"24px\">\n",
              "    <path d=\"M0 0h24v24H0V0z\" fill=\"none\"/>\n",
              "    <path d=\"M18.56 5.44l.94 2.06.94-2.06 2.06-.94-2.06-.94-.94-2.06-.94 2.06-2.06.94zm-11 1L8.5 8.5l.94-2.06 2.06-.94-2.06-.94L8.5 2.5l-.94 2.06-2.06.94zm10 10l.94 2.06.94-2.06 2.06-.94-2.06-.94-.94-2.06-.94 2.06-2.06.94z\"/><path d=\"M17.41 7.96l-1.37-1.37c-.4-.4-.92-.59-1.43-.59-.52 0-1.04.2-1.43.59L10.3 9.45l-7.72 7.72c-.78.78-.78 2.05 0 2.83L4 21.41c.39.39.9.59 1.41.59.51 0 1.02-.2 1.41-.59l7.78-7.78 2.81-2.81c.8-.78.8-2.07 0-2.86zM5.41 20L4 18.59l7.72-7.72 1.47 1.35L5.41 20z\"/>\n",
              "  </svg>\n",
              "      </button>\n",
              "      \n",
              "  <style>\n",
              "    .colab-df-container {\n",
              "      display:flex;\n",
              "      flex-wrap:wrap;\n",
              "      gap: 12px;\n",
              "    }\n",
              "\n",
              "    .colab-df-convert {\n",
              "      background-color: #E8F0FE;\n",
              "      border: none;\n",
              "      border-radius: 50%;\n",
              "      cursor: pointer;\n",
              "      display: none;\n",
              "      fill: #1967D2;\n",
              "      height: 32px;\n",
              "      padding: 0 0 0 0;\n",
              "      width: 32px;\n",
              "    }\n",
              "\n",
              "    .colab-df-convert:hover {\n",
              "      background-color: #E2EBFA;\n",
              "      box-shadow: 0px 1px 2px rgba(60, 64, 67, 0.3), 0px 1px 3px 1px rgba(60, 64, 67, 0.15);\n",
              "      fill: #174EA6;\n",
              "    }\n",
              "\n",
              "    [theme=dark] .colab-df-convert {\n",
              "      background-color: #3B4455;\n",
              "      fill: #D2E3FC;\n",
              "    }\n",
              "\n",
              "    [theme=dark] .colab-df-convert:hover {\n",
              "      background-color: #434B5C;\n",
              "      box-shadow: 0px 1px 3px 1px rgba(0, 0, 0, 0.15);\n",
              "      filter: drop-shadow(0px 1px 2px rgba(0, 0, 0, 0.3));\n",
              "      fill: #FFFFFF;\n",
              "    }\n",
              "  </style>\n",
              "\n",
              "      <script>\n",
              "        const buttonEl =\n",
              "          document.querySelector('#df-9004be40-7d4e-4d12-9ad9-9d13e4d0cf45 button.colab-df-convert');\n",
              "        buttonEl.style.display =\n",
              "          google.colab.kernel.accessAllowed ? 'block' : 'none';\n",
              "\n",
              "        async function convertToInteractive(key) {\n",
              "          const element = document.querySelector('#df-9004be40-7d4e-4d12-9ad9-9d13e4d0cf45');\n",
              "          const dataTable =\n",
              "            await google.colab.kernel.invokeFunction('convertToInteractive',\n",
              "                                                     [key], {});\n",
              "          if (!dataTable) return;\n",
              "\n",
              "          const docLinkHtml = 'Like what you see? Visit the ' +\n",
              "            '<a target=\"_blank\" href=https://colab.research.google.com/notebooks/data_table.ipynb>data table notebook</a>'\n",
              "            + ' to learn more about interactive tables.';\n",
              "          element.innerHTML = '';\n",
              "          dataTable['output_type'] = 'display_data';\n",
              "          await google.colab.output.renderOutput(dataTable, element);\n",
              "          const docLink = document.createElement('div');\n",
              "          docLink.innerHTML = docLinkHtml;\n",
              "          element.appendChild(docLink);\n",
              "        }\n",
              "      </script>\n",
              "    </div>\n",
              "  </div>\n",
              "  "
            ],
            "text/plain": [
              "     CustomerID  Gender  Age  Annual Income (k$)  Spending Score (1-100)\n",
              "0             1    Male   19                  15                      39\n",
              "1             2    Male   21                  15                      81\n",
              "2             3  Female   20                  16                       6\n",
              "3             4  Female   23                  16                      77\n",
              "4             5  Female   31                  17                      40\n",
              "..          ...     ...  ...                 ...                     ...\n",
              "195         196  Female   35                 120                      79\n",
              "196         197  Female   45                 126                      28\n",
              "197         198    Male   32                 126                      74\n",
              "198         199    Male   32                 137                      18\n",
              "199         200    Male   30                 137                      83\n",
              "\n",
              "[200 rows x 5 columns]"
            ]
          },
          "execution_count": 2,
          "metadata": {},
          "output_type": "execute_result"
        }
      ],
      "source": [
        "import pandas as pd\n",
        "import numpy as np\n",
        "\n",
        "df = pd.read_csv(\"/Mall_Customers.csv\")\n",
        "print(\"Veri seti örneği:\")\n",
        "df"
      ]
    },
    {
      "cell_type": "markdown",
      "metadata": {
        "id": "NqikDmeVhhzN"
      },
      "source": [
        "### Eksik veri kontrolu ve tamamlanması\n",
        "\n",
        "---\n",
        "\n"
      ]
    },
    {
      "cell_type": "markdown",
      "metadata": {
        "id": "ZcklCsd6An5A"
      },
      "source": [
        "Sonucu False çıkmasına göre eksik veri bulunmadığı görüyoruz"
      ]
    },
    {
      "cell_type": "code",
      "execution_count": 3,
      "metadata": {
        "colab": {
          "base_uri": "https://localhost:8080/"
        },
        "id": "lBdvsJswh_P_",
        "outputId": "da31f89a-5159-4817-f984-3cf620ad3665"
      },
      "outputs": [
        {
          "data": {
            "text/plain": [
              "False"
            ]
          },
          "execution_count": 3,
          "metadata": {},
          "output_type": "execute_result"
        }
      ],
      "source": [
        "df.isnull().values.any()"
      ]
    },
    {
      "cell_type": "markdown",
      "metadata": {
        "id": "X_kcYkoBK0Mn"
      },
      "source": [
        "### Kullanılmayacak özellikleri çıkarma"
      ]
    },
    {
      "cell_type": "markdown",
      "metadata": {
        "id": "eXLHuk8RSk6v"
      },
      "source": [
        "CustomerID özelliği kullanılmayacak, be nedenle datasetinden çıkardım"
      ]
    },
    {
      "cell_type": "code",
      "execution_count": 4,
      "metadata": {
        "id": "sAhM8NboK_z2"
      },
      "outputs": [],
      "source": [
        "df = df.drop(['CustomerID'], axis =1)"
      ]
    },
    {
      "cell_type": "markdown",
      "metadata": {
        "id": "VHq-wcdFqNbC"
      },
      "source": [
        "### Değeri sayı olmayan özellikleri sayıya dönüştürme \n",
        "\n",
        "---\n",
        "\n"
      ]
    },
    {
      "cell_type": "markdown",
      "metadata": {
        "id": "-xs-SamENNLc"
      },
      "source": [
        "Datasetimizde sadece Gender özelliği sayısal değerlere dönüştürüyoruz\n",
        "\n",
        "Erkek: 0 - kadın: 1"
      ]
    },
    {
      "cell_type": "code",
      "execution_count": 5,
      "metadata": {
        "colab": {
          "base_uri": "https://localhost:8080/",
          "height": 206
        },
        "id": "U7j2p8T7qSiA",
        "outputId": "a1999ae5-8b54-43c9-941b-c2b99eacfb45"
      },
      "outputs": [
        {
          "data": {
            "text/html": [
              "\n",
              "  <div id=\"df-f2f761ee-5f86-4bcd-9c2e-7b8a01f57209\">\n",
              "    <div class=\"colab-df-container\">\n",
              "      <div>\n",
              "<style scoped>\n",
              "    .dataframe tbody tr th:only-of-type {\n",
              "        vertical-align: middle;\n",
              "    }\n",
              "\n",
              "    .dataframe tbody tr th {\n",
              "        vertical-align: top;\n",
              "    }\n",
              "\n",
              "    .dataframe thead th {\n",
              "        text-align: right;\n",
              "    }\n",
              "</style>\n",
              "<table border=\"1\" class=\"dataframe\">\n",
              "  <thead>\n",
              "    <tr style=\"text-align: right;\">\n",
              "      <th></th>\n",
              "      <th>Age</th>\n",
              "      <th>Annual Income (k$)</th>\n",
              "      <th>Spending Score (1-100)</th>\n",
              "      <th>Gender</th>\n",
              "    </tr>\n",
              "  </thead>\n",
              "  <tbody>\n",
              "    <tr>\n",
              "      <th>0</th>\n",
              "      <td>19</td>\n",
              "      <td>15</td>\n",
              "      <td>39</td>\n",
              "      <td>0</td>\n",
              "    </tr>\n",
              "    <tr>\n",
              "      <th>1</th>\n",
              "      <td>21</td>\n",
              "      <td>15</td>\n",
              "      <td>81</td>\n",
              "      <td>0</td>\n",
              "    </tr>\n",
              "    <tr>\n",
              "      <th>2</th>\n",
              "      <td>20</td>\n",
              "      <td>16</td>\n",
              "      <td>6</td>\n",
              "      <td>1</td>\n",
              "    </tr>\n",
              "    <tr>\n",
              "      <th>3</th>\n",
              "      <td>23</td>\n",
              "      <td>16</td>\n",
              "      <td>77</td>\n",
              "      <td>1</td>\n",
              "    </tr>\n",
              "    <tr>\n",
              "      <th>4</th>\n",
              "      <td>31</td>\n",
              "      <td>17</td>\n",
              "      <td>40</td>\n",
              "      <td>1</td>\n",
              "    </tr>\n",
              "  </tbody>\n",
              "</table>\n",
              "</div>\n",
              "      <button class=\"colab-df-convert\" onclick=\"convertToInteractive('df-f2f761ee-5f86-4bcd-9c2e-7b8a01f57209')\"\n",
              "              title=\"Convert this dataframe to an interactive table.\"\n",
              "              style=\"display:none;\">\n",
              "        \n",
              "  <svg xmlns=\"http://www.w3.org/2000/svg\" height=\"24px\"viewBox=\"0 0 24 24\"\n",
              "       width=\"24px\">\n",
              "    <path d=\"M0 0h24v24H0V0z\" fill=\"none\"/>\n",
              "    <path d=\"M18.56 5.44l.94 2.06.94-2.06 2.06-.94-2.06-.94-.94-2.06-.94 2.06-2.06.94zm-11 1L8.5 8.5l.94-2.06 2.06-.94-2.06-.94L8.5 2.5l-.94 2.06-2.06.94zm10 10l.94 2.06.94-2.06 2.06-.94-2.06-.94-.94-2.06-.94 2.06-2.06.94z\"/><path d=\"M17.41 7.96l-1.37-1.37c-.4-.4-.92-.59-1.43-.59-.52 0-1.04.2-1.43.59L10.3 9.45l-7.72 7.72c-.78.78-.78 2.05 0 2.83L4 21.41c.39.39.9.59 1.41.59.51 0 1.02-.2 1.41-.59l7.78-7.78 2.81-2.81c.8-.78.8-2.07 0-2.86zM5.41 20L4 18.59l7.72-7.72 1.47 1.35L5.41 20z\"/>\n",
              "  </svg>\n",
              "      </button>\n",
              "      \n",
              "  <style>\n",
              "    .colab-df-container {\n",
              "      display:flex;\n",
              "      flex-wrap:wrap;\n",
              "      gap: 12px;\n",
              "    }\n",
              "\n",
              "    .colab-df-convert {\n",
              "      background-color: #E8F0FE;\n",
              "      border: none;\n",
              "      border-radius: 50%;\n",
              "      cursor: pointer;\n",
              "      display: none;\n",
              "      fill: #1967D2;\n",
              "      height: 32px;\n",
              "      padding: 0 0 0 0;\n",
              "      width: 32px;\n",
              "    }\n",
              "\n",
              "    .colab-df-convert:hover {\n",
              "      background-color: #E2EBFA;\n",
              "      box-shadow: 0px 1px 2px rgba(60, 64, 67, 0.3), 0px 1px 3px 1px rgba(60, 64, 67, 0.15);\n",
              "      fill: #174EA6;\n",
              "    }\n",
              "\n",
              "    [theme=dark] .colab-df-convert {\n",
              "      background-color: #3B4455;\n",
              "      fill: #D2E3FC;\n",
              "    }\n",
              "\n",
              "    [theme=dark] .colab-df-convert:hover {\n",
              "      background-color: #434B5C;\n",
              "      box-shadow: 0px 1px 3px 1px rgba(0, 0, 0, 0.15);\n",
              "      filter: drop-shadow(0px 1px 2px rgba(0, 0, 0, 0.3));\n",
              "      fill: #FFFFFF;\n",
              "    }\n",
              "  </style>\n",
              "\n",
              "      <script>\n",
              "        const buttonEl =\n",
              "          document.querySelector('#df-f2f761ee-5f86-4bcd-9c2e-7b8a01f57209 button.colab-df-convert');\n",
              "        buttonEl.style.display =\n",
              "          google.colab.kernel.accessAllowed ? 'block' : 'none';\n",
              "\n",
              "        async function convertToInteractive(key) {\n",
              "          const element = document.querySelector('#df-f2f761ee-5f86-4bcd-9c2e-7b8a01f57209');\n",
              "          const dataTable =\n",
              "            await google.colab.kernel.invokeFunction('convertToInteractive',\n",
              "                                                     [key], {});\n",
              "          if (!dataTable) return;\n",
              "\n",
              "          const docLinkHtml = 'Like what you see? Visit the ' +\n",
              "            '<a target=\"_blank\" href=https://colab.research.google.com/notebooks/data_table.ipynb>data table notebook</a>'\n",
              "            + ' to learn more about interactive tables.';\n",
              "          element.innerHTML = '';\n",
              "          dataTable['output_type'] = 'display_data';\n",
              "          await google.colab.output.renderOutput(dataTable, element);\n",
              "          const docLink = document.createElement('div');\n",
              "          docLink.innerHTML = docLinkHtml;\n",
              "          element.appendChild(docLink);\n",
              "        }\n",
              "      </script>\n",
              "    </div>\n",
              "  </div>\n",
              "  "
            ],
            "text/plain": [
              "   Age  Annual Income (k$)  Spending Score (1-100)  Gender\n",
              "0   19                  15                      39       0\n",
              "1   21                  15                      81       0\n",
              "2   20                  16                       6       1\n",
              "3   23                  16                      77       1\n",
              "4   31                  17                      40       1"
            ]
          },
          "execution_count": 5,
          "metadata": {},
          "output_type": "execute_result"
        }
      ],
      "source": [
        "dummy = pd.get_dummies(df['Gender'])\n",
        "df2 = pd.concat((df , dummy), axis =1)\n",
        "df2 = df2.drop(['Gender'], axis =1)\n",
        "df2 = df2.drop(['Male'], axis =1)\n",
        "df2 = df2.rename(columns={\"Female\":\"Gender\"})\n",
        "df2.head()"
      ]
    },
    {
      "cell_type": "markdown",
      "metadata": {
        "id": "NPV8Ftg9q-z_"
      },
      "source": [
        "### Özelliklerin değerlerini normalize etmek"
      ]
    },
    {
      "cell_type": "code",
      "execution_count": 15,
      "metadata": {
        "colab": {
          "base_uri": "https://localhost:8080/",
          "height": 206
        },
        "id": "OY9uqa-1qsYz",
        "outputId": "6e71c73b-27f3-44a1-e690-917e6acc5bbe"
      },
      "outputs": [
        {
          "data": {
            "text/html": [
              "\n",
              "  <div id=\"df-20858a3a-b1cc-4f00-bb7e-545d5fe1bb1b\">\n",
              "    <div class=\"colab-df-container\">\n",
              "      <div>\n",
              "<style scoped>\n",
              "    .dataframe tbody tr th:only-of-type {\n",
              "        vertical-align: middle;\n",
              "    }\n",
              "\n",
              "    .dataframe tbody tr th {\n",
              "        vertical-align: top;\n",
              "    }\n",
              "\n",
              "    .dataframe thead th {\n",
              "        text-align: right;\n",
              "    }\n",
              "</style>\n",
              "<table border=\"1\" class=\"dataframe\">\n",
              "  <thead>\n",
              "    <tr style=\"text-align: right;\">\n",
              "      <th></th>\n",
              "      <th>Age</th>\n",
              "      <th>Annual Income (k$)</th>\n",
              "      <th>Spending Score (1-100)</th>\n",
              "      <th>Gender</th>\n",
              "    </tr>\n",
              "  </thead>\n",
              "  <tbody>\n",
              "    <tr>\n",
              "      <th>0</th>\n",
              "      <td>0.032551</td>\n",
              "      <td>0.016074</td>\n",
              "      <td>0.048876</td>\n",
              "      <td>0</td>\n",
              "    </tr>\n",
              "    <tr>\n",
              "      <th>1</th>\n",
              "      <td>0.035978</td>\n",
              "      <td>0.016074</td>\n",
              "      <td>0.101511</td>\n",
              "      <td>0</td>\n",
              "    </tr>\n",
              "    <tr>\n",
              "      <th>2</th>\n",
              "      <td>0.034265</td>\n",
              "      <td>0.017146</td>\n",
              "      <td>0.007519</td>\n",
              "      <td>1</td>\n",
              "    </tr>\n",
              "    <tr>\n",
              "      <th>3</th>\n",
              "      <td>0.039404</td>\n",
              "      <td>0.017146</td>\n",
              "      <td>0.096498</td>\n",
              "      <td>1</td>\n",
              "    </tr>\n",
              "    <tr>\n",
              "      <th>4</th>\n",
              "      <td>0.053110</td>\n",
              "      <td>0.018218</td>\n",
              "      <td>0.050129</td>\n",
              "      <td>1</td>\n",
              "    </tr>\n",
              "  </tbody>\n",
              "</table>\n",
              "</div>\n",
              "      <button class=\"colab-df-convert\" onclick=\"convertToInteractive('df-20858a3a-b1cc-4f00-bb7e-545d5fe1bb1b')\"\n",
              "              title=\"Convert this dataframe to an interactive table.\"\n",
              "              style=\"display:none;\">\n",
              "        \n",
              "  <svg xmlns=\"http://www.w3.org/2000/svg\" height=\"24px\"viewBox=\"0 0 24 24\"\n",
              "       width=\"24px\">\n",
              "    <path d=\"M0 0h24v24H0V0z\" fill=\"none\"/>\n",
              "    <path d=\"M18.56 5.44l.94 2.06.94-2.06 2.06-.94-2.06-.94-.94-2.06-.94 2.06-2.06.94zm-11 1L8.5 8.5l.94-2.06 2.06-.94-2.06-.94L8.5 2.5l-.94 2.06-2.06.94zm10 10l.94 2.06.94-2.06 2.06-.94-2.06-.94-.94-2.06-.94 2.06-2.06.94z\"/><path d=\"M17.41 7.96l-1.37-1.37c-.4-.4-.92-.59-1.43-.59-.52 0-1.04.2-1.43.59L10.3 9.45l-7.72 7.72c-.78.78-.78 2.05 0 2.83L4 21.41c.39.39.9.59 1.41.59.51 0 1.02-.2 1.41-.59l7.78-7.78 2.81-2.81c.8-.78.8-2.07 0-2.86zM5.41 20L4 18.59l7.72-7.72 1.47 1.35L5.41 20z\"/>\n",
              "  </svg>\n",
              "      </button>\n",
              "      \n",
              "  <style>\n",
              "    .colab-df-container {\n",
              "      display:flex;\n",
              "      flex-wrap:wrap;\n",
              "      gap: 12px;\n",
              "    }\n",
              "\n",
              "    .colab-df-convert {\n",
              "      background-color: #E8F0FE;\n",
              "      border: none;\n",
              "      border-radius: 50%;\n",
              "      cursor: pointer;\n",
              "      display: none;\n",
              "      fill: #1967D2;\n",
              "      height: 32px;\n",
              "      padding: 0 0 0 0;\n",
              "      width: 32px;\n",
              "    }\n",
              "\n",
              "    .colab-df-convert:hover {\n",
              "      background-color: #E2EBFA;\n",
              "      box-shadow: 0px 1px 2px rgba(60, 64, 67, 0.3), 0px 1px 3px 1px rgba(60, 64, 67, 0.15);\n",
              "      fill: #174EA6;\n",
              "    }\n",
              "\n",
              "    [theme=dark] .colab-df-convert {\n",
              "      background-color: #3B4455;\n",
              "      fill: #D2E3FC;\n",
              "    }\n",
              "\n",
              "    [theme=dark] .colab-df-convert:hover {\n",
              "      background-color: #434B5C;\n",
              "      box-shadow: 0px 1px 3px 1px rgba(0, 0, 0, 0.15);\n",
              "      filter: drop-shadow(0px 1px 2px rgba(0, 0, 0, 0.3));\n",
              "      fill: #FFFFFF;\n",
              "    }\n",
              "  </style>\n",
              "\n",
              "      <script>\n",
              "        const buttonEl =\n",
              "          document.querySelector('#df-20858a3a-b1cc-4f00-bb7e-545d5fe1bb1b button.colab-df-convert');\n",
              "        buttonEl.style.display =\n",
              "          google.colab.kernel.accessAllowed ? 'block' : 'none';\n",
              "\n",
              "        async function convertToInteractive(key) {\n",
              "          const element = document.querySelector('#df-20858a3a-b1cc-4f00-bb7e-545d5fe1bb1b');\n",
              "          const dataTable =\n",
              "            await google.colab.kernel.invokeFunction('convertToInteractive',\n",
              "                                                     [key], {});\n",
              "          if (!dataTable) return;\n",
              "\n",
              "          const docLinkHtml = 'Like what you see? Visit the ' +\n",
              "            '<a target=\"_blank\" href=https://colab.research.google.com/notebooks/data_table.ipynb>data table notebook</a>'\n",
              "            + ' to learn more about interactive tables.';\n",
              "          element.innerHTML = '';\n",
              "          dataTable['output_type'] = 'display_data';\n",
              "          await google.colab.output.renderOutput(dataTable, element);\n",
              "          const docLink = document.createElement('div');\n",
              "          docLink.innerHTML = docLinkHtml;\n",
              "          element.appendChild(docLink);\n",
              "        }\n",
              "      </script>\n",
              "    </div>\n",
              "  </div>\n",
              "  "
            ],
            "text/plain": [
              "        Age  Annual Income (k$)  Spending Score (1-100)  Gender\n",
              "0  0.032551            0.016074                0.048876       0\n",
              "1  0.035978            0.016074                0.101511       0\n",
              "2  0.034265            0.017146                0.007519       1\n",
              "3  0.039404            0.017146                0.096498       1\n",
              "4  0.053110            0.018218                0.050129       1"
            ]
          },
          "execution_count": 15,
          "metadata": {},
          "output_type": "execute_result"
        }
      ],
      "source": [
        "from sklearn import preprocessing\n",
        "df3 = df2.drop(['Gender'], axis =1)\n",
        "d = preprocessing.normalize(df3, axis=0)\n",
        "scaled_df = pd.DataFrame(d ,columns=df3.columns )\n",
        "df = pd.concat((scaled_df , df2[\"Gender\"]), axis =1)\n",
        "df.head()"
      ]
    },
    {
      "cell_type": "markdown",
      "metadata": {
        "id": "VwDRSRoHCnIU"
      },
      "source": [
        "# **Heatmap**"
      ]
    },
    {
      "cell_type": "code",
      "execution_count": 33,
      "metadata": {
        "id": "7KZ8SLFoCiW4"
      },
      "outputs": [],
      "source": [
        "import seaborn as sns\n",
        "\n",
        "correlasion = df2.corr()"
      ]
    },
    {
      "cell_type": "code",
      "execution_count": 34,
      "metadata": {
        "colab": {
          "base_uri": "https://localhost:8080/",
          "height": 395
        },
        "id": "BOXwZTTMLplq",
        "outputId": "0befbe2b-f7cb-48dc-8ee3-037c11516516"
      },
      "outputs": [
        {
          "data": {
            "text/plain": [
              "<matplotlib.axes._subplots.AxesSubplot at 0x7f51ec44c340>"
            ]
          },
          "execution_count": 34,
          "metadata": {},
          "output_type": "execute_result"
        },
        {
          "data": {
            "image/png": "[encoded data removed]",
            "text/plain": [
              "<Figure size 432x288 with 2 Axes>"
            ]
          },
          "metadata": {
            "needs_background": "light"
          },
          "output_type": "display_data"
        }
      ],
      "source": [
        "sns.heatmap(correlasion, cmap=\"RdYlGn\", annot=True)"
      ]
    },
    {
      "cell_type": "markdown",
      "metadata": {
        "id": "AchQiSPsFf9X"
      },
      "source": [
        "# **Kümeleme**"
      ]
    },
    {
      "cell_type": "markdown",
      "metadata": {
        "id": "cY0A6Aw4I9lB"
      },
      "source": [
        "### Gender ile Speending Score K-means uygulama \n",
        "\n",
        "---\n",
        "\n"
      ]
    },
    {
      "cell_type": "code",
      "execution_count": 38,
      "metadata": {
        "id": "JFauUhaY6aB0"
      },
      "outputs": [],
      "source": [
        "df_temp = df2.iloc[:, [2,3]].values"
      ]
    },
    {
      "cell_type": "code",
      "execution_count": 39,
      "metadata": {
        "colab": {
          "base_uri": "https://localhost:8080/",
          "height": 265
        },
        "id": "FBjmJkck6zOj",
        "outputId": "abe8641e-427f-4bf9-af2a-4c1d948c5a89"
      },
      "outputs": [
        {
          "data": {
            "image/png": "[encoded data removed]",
            "text/plain": [
              "<Figure size 432x288 with 1 Axes>"
            ]
          },
          "metadata": {
            "needs_background": "light"
          },
          "output_type": "display_data"
        }
      ],
      "source": [
        "import matplotlib.pyplot as plt\n",
        "\n",
        "plt.scatter(x=df_temp[:,0], y=df_temp[:,1], s=10, c='black')\n",
        "plt.show()"
      ]
    },
    {
      "cell_type": "code",
      "execution_count": 40,
      "metadata": {
        "colab": {
          "base_uri": "https://localhost:8080/",
          "height": 295
        },
        "id": "CICtbctDFqXv",
        "outputId": "13d328b0-037a-48a0-d227-87ed9424e837"
      },
      "outputs": [
        {
          "data": {
            "image/png": "[encoded data removed]",
            "text/plain": [
              "<Figure size 432x288 with 1 Axes>"
            ]
          },
          "metadata": {
            "needs_background": "light"
          },
          "output_type": "display_data"
        }
      ],
      "source": [
        "from sklearn.cluster import KMeans\n",
        "\n",
        "wcss = []\n",
        "for i in range(1, 11):\n",
        "  model = KMeans(n_clusters= i, init='k-means++', max_iter=300, n_init= 10)\n",
        "  model.fit_predict(df_temp)\n",
        "  wcss.append(model.inertia_)  #inertia_ = wcss\n",
        "\n",
        "plt.plot(range(1,11), wcss)\n",
        "plt.title('elbow method')\n",
        "plt.xlabel('number of clusters')\n",
        "plt.ylabel('wcss or inertia_')\n",
        "plt.show()"
      ]
    },
    {
      "cell_type": "code",
      "execution_count": 41,
      "metadata": {
        "colab": {
          "base_uri": "https://localhost:8080/",
          "height": 295
        },
        "id": "UAnVSONr8fiB",
        "outputId": "46be412e-9012-480a-a37d-977a8f52d3de"
      },
      "outputs": [
        {
          "data": {
            "image/png": "[encoded data removed]",
            "text/plain": [
              "<Figure size 432x288 with 1 Axes>"
            ]
          },
          "metadata": {
            "needs_background": "light"
          },
          "output_type": "display_data"
        }
      ],
      "source": [
        "model = KMeans(n_clusters= 3, init='k-means++', max_iter=300, n_init= 10)\n",
        "labels = model.fit_predict(df_temp) # har sample ozve kodam cluster ast\n",
        "np.unique(labels)\n",
        "plt.scatter(x=df_temp[labels==0,0], y=df_temp[labels==0,1], c='green') # df haye ke labels anha az cluster 0 bashand va sootoone 0 va sootoone 1 df (df do sootoon darad kolan)\n",
        "plt.scatter(x=df_temp[labels==1,0], y=df_temp[labels==1,1], c='blue')\n",
        "plt.scatter(x=df_temp[labels==2,0], y=df_temp[labels==2,1], c='red')\n",
        "plt.scatter(x=df_temp[labels==3,0], y=df_temp[labels==3,1], c='pink')\n",
        "plt.scatter(x=df_temp[labels==4,0], y=df_temp[labels==4,1], c='yellow')\n",
        "\n",
        "plt.scatter(model.cluster_centers_[:,0], model.cluster_centers_[:,1], c='black')\n",
        "\n",
        "plt.title('cluster result')\n",
        "plt.xlabel('Annual Income (k$)')\n",
        "plt.ylabel('Spending Score (1-100)')\n",
        "plt.show()"
      ]
    },
    {
      "cell_type": "markdown",
      "metadata": {
        "id": "H8Nb6qdqJPQC"
      },
      "source": [
        "### Annual Income ile Speending Score K-means uygulama\n",
        "\n",
        "---\n",
        "\n"
      ]
    },
    {
      "cell_type": "code",
      "execution_count": 42,
      "metadata": {
        "id": "WFb7q2k5FsYY"
      },
      "outputs": [],
      "source": [
        "df_temp = df2.iloc[:, [1,2]].values"
      ]
    },
    {
      "cell_type": "code",
      "execution_count": 43,
      "metadata": {
        "colab": {
          "base_uri": "https://localhost:8080/",
          "height": 265
        },
        "id": "5fY4b40DvfhV",
        "outputId": "df0e095a-7e02-4835-a922-8b40d2e1d143"
      },
      "outputs": [
        {
          "data": {
            "image/png": "[encoded data removed]",
            "text/plain": [
              "<Figure size 432x288 with 1 Axes>"
            ]
          },
          "metadata": {
            "needs_background": "light"
          },
          "output_type": "display_data"
        }
      ],
      "source": [
        "import matplotlib.pyplot as plt\n",
        "\n",
        "plt.scatter(x=df_temp[:,0], y=df_temp[:,1], s=10, c='black')\n",
        "plt.show()"
      ]
    },
    {
      "cell_type": "code",
      "execution_count": 44,
      "metadata": {
        "colab": {
          "base_uri": "https://localhost:8080/",
          "height": 295
        },
        "id": "QApL4onPvk-q",
        "outputId": "c980e46f-84d3-4c64-a336-81ba325befdc"
      },
      "outputs": [
        {
          "data": {
            "image/png": "[encoded data removed]",
            "text/plain": [
              "<Figure size 432x288 with 1 Axes>"
            ]
          },
          "metadata": {
            "needs_background": "light"
          },
          "output_type": "display_data"
        }
      ],
      "source": [
        "from sklearn.cluster import KMeans\n",
        "\n",
        "wcss = []\n",
        "for i in range(1, 11):\n",
        "  model = KMeans(n_clusters= i, init='k-means++', max_iter=300, n_init= 10)\n",
        "  model.fit_predict(df_temp)\n",
        "  wcss.append(model.inertia_)  #inertia_ = wcss\n",
        "\n",
        "plt.plot(range(1,11), wcss)\n",
        "plt.title('elbow method')\n",
        "plt.xlabel('number of clusters')\n",
        "plt.ylabel('wcss or inertia_')\n",
        "plt.show()"
      ]
    },
    {
      "cell_type": "code",
      "execution_count": 47,
      "metadata": {
        "colab": {
          "base_uri": "https://localhost:8080/",
          "height": 295
        },
        "id": "PcjwckzxvopV",
        "outputId": "2c7ba6dd-bbe1-46e9-a1fb-dffe924b1602"
      },
      "outputs": [
        {
          "data": {
            "image/png": "[encoded data removed]",
            "text/plain": [
              "<Figure size 432x288 with 1 Axes>"
            ]
          },
          "metadata": {
            "needs_background": "light"
          },
          "output_type": "display_data"
        }
      ],
      "source": [
        "model = KMeans(n_clusters= 5, init='k-means++', max_iter=300, n_init= 10)\n",
        "labels = model.fit_predict(df_temp) # har sample ozve kodam cluster ast\n",
        "np.unique(labels)\n",
        "plt.scatter(x=df_temp[labels==0,0], y=df_temp[labels==0,1], c='green') # df haye ke labels anha az cluster 0 bashand va sootoone 0 va sootoone 1 df (df do sootoon darad kolan)\n",
        "plt.scatter(x=df_temp[labels==1,0], y=df_temp[labels==1,1], c='blue')\n",
        "plt.scatter(x=df_temp[labels==2,0], y=df_temp[labels==2,1], c='red')\n",
        "plt.scatter(x=df_temp[labels==3,0], y=df_temp[labels==3,1], c='pink')\n",
        "plt.scatter(x=df_temp[labels==4,0], y=df_temp[labels==4,1], c='yellow')\n",
        "\n",
        "plt.scatter(model.cluster_centers_[:,0], model.cluster_centers_[:,1], c='black')\n",
        "\n",
        "plt.title('cluster result')\n",
        "plt.xlabel('Annual Income (k$)')\n",
        "plt.ylabel('Spending Score (1-100)')\n",
        "plt.show()"
      ]
    }
  ],
  "metadata": {
    "colab": {
      "collapsed_sections": [
        "QzqeTltDuaur",
        "7AU42TlDvktM"
      ],
      "provenance": []
    },
    "kernelspec": {
      "display_name": "Python 3 (ipykernel)",
      "language": "python",
      "name": "python3"
    },
    "language_info": {
      "codemirror_mode": {
        "name": "ipython",
        "version": 3
      },
      "file_extension": ".py",
      "mimetype": "text/x-python",
      "name": "python",
      "nbconvert_exporter": "python",
      "pygments_lexer": "ipython3",
      "version": "3.9.7"
    }
  },
  "nbformat": 4,
  "nbformat_minor": 0
}
